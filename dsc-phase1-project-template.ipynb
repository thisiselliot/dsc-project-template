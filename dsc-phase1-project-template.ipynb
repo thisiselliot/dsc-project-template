{
 "cells": [
  {
   "cell_type": "markdown",
   "metadata": {},
   "source": [
    "![example](images/director_shot.jpeg)"
   ]
  },
  {
   "cell_type": "markdown",
   "metadata": {},
   "source": [
    "# Major Motion Picture Box Office Analysis \n",
    "\n",
    "**Authors:** Billy Lopez, Elliot Macy\n",
    "***"
   ]
  },
  {
   "cell_type": "markdown",
   "metadata": {},
   "source": [
    "## Overview\n",
    "\n",
    "This project analyzes 20 years of movie data and offers strategic insights for Microsoft to launch a financially sucessful film studio."
   ]
  },
  {
   "cell_type": "markdown",
   "metadata": {},
   "source": [
    "## Business Problem\n",
    "\n",
    "We answer three questions relating to box office profit and revenue for major motion pictures from the past 20 years.\n",
    "\n",
    "1. How does the correlation between runtime and revenue vary between different MPAA ratings?\n",
    "2. Which months of the year and days of the week are the optimal releases dates?\n",
    "3. Do the optimal release dates differ from foreign to domestic audiences?\n",
    "\n",
    "Descriptive analysis of the relationshipes between profit and revenue, on the one hand, and release dates and runtimes, on the other, points toward very different approaches depending on MPAA rating and audience.\n",
    "\n",
    "Namely, revenues increase with strciter MPAA ratings from G to PG-13 but fall dramtically for R and NC-17 ratings. Optimizing runtimes for maximum revenue depends on the target rating: longer movies do better with stricter ratings.\n",
    "\n",
    "Moreover, profits peak yearly for movies released in June and December and peak weekly for Tuesday and Wednesday releases. However, upon further analysis, we found that movies intended for international audiences peak monthly in July only and weekly on Mondays."
   ]
  },
  {
   "cell_type": "markdown",
   "metadata": {},
   "source": [
    "## Data Understanding\n",
    "\n",
    "Our analysis utilizes data obtained from Rotten Tomatoes (RT) and The Movie Database (TMDB). The combined dataset represents the profit, revenue, and other key features of all 21st century major motion pictures. We focus on release date, audience, rating, and runtime, and how these features relate with profit and revenue as well as each other."
   ]
  },
  {
   "cell_type": "code",
   "execution_count": null,
   "metadata": {},
   "outputs": [],
   "source": [
    "# Import standard packages\n",
    "import pandas as pd\n",
    "import numpy as np\n",
    "import matplotlib.pyplot as plt\n",
    "%matplotlib inline\n",
    "from pandas.plotting import register_matplotlib_converters\n",
    "import matplotlib.ticker as ticker\n",
    "import seaborn as sns\n",
    "import requests\n",
    "import json\n",
    "import time\n",
    "import random\n",
    "from bs4 import BeautifulSoup\n",
    "from tqdm import tqdm_notebook as tqdm\n",
    "from datetime import datetime as dt\n",
    "register_matplotlib_converters()\n",
    "from bs4 import BeautifulSoup"
   ]
  },
  {
   "cell_type": "code",
   "execution_count": null,
   "metadata": {},
   "outputs": [],
   "source": [
    "# Explore data\n",
    "rotn = pd.read_csv('data/rotn.csv')\n",
    "tmdb_raw = pd.read_csv('data/tmdb.csv', index_col=0, encoding='Latin-1')\n",
    "tmdb = pd.DataFrame.from_dict(tmdb_raw)\n",
    "pd.set_option('display.max_colwidth', -1, 'display.float_format', lambda x: '%.5f' % x)"
   ]
  },
  {
   "cell_type": "markdown",
   "metadata": {},
   "source": [
    "## Data Preparation\n",
    "\n",
    "To prepare our data for analysis we dropped the unrelated columns and engineered several new features. After selecting our features, we dropped movies missing quantitative values. For missing categorical values, we either dropped the movie in question or replaced the value with 'None'."
   ]
  },
  {
   "cell_type": "code",
   "execution_count": null,
   "metadata": {},
   "outputs": [],
   "source": [
    "# ————> Clean RT Data: <————\n",
    "    \n",
    "# Remove ':' from column names\n",
    "rotn.columns = [col[:-1] for col in rotn.columns]\n",
    "\n",
    "# Drop extraneous columns\n",
    "rotn = rotn.loc[:,['Title', 'Box Office (Gross USA)', 'Runtime', 'Rating']]\n",
    "\n",
    "# Drop rows with null values\n",
    "rotn.dropna(inplace=True)\n",
    "\n",
    "# Replace null values with 'None'\n",
    "rotn.fillna('None', inplace=True)\n",
    "\n",
    "# Reset index\n",
    "rotn.reset_index(inplace=True, drop=True)\n",
    "\n",
    "# Remove components from Ratings\n",
    "rotn['Rating'] = rotn['Rating'].map(lambda x : x.split(' ')[0])\n",
    "\n",
    "#Remove '$' and 'M' and convert Gross to int\n",
    "rotn['Box Office (Gross USA)'] = rotn['Box Office (Gross USA)'].map(\n",
    "    lambda x : int(float(x.strip('$M')) * 1000000) if x.endswith('M')\n",
    "    else int(float(x.strip('$K')) * 1000))\n",
    "\n",
    "# Convert Runtime to minutes\n",
    "rotn['Runtime'] = rotn['Runtime'].map(\n",
    "    lambda x : int(x[0])*60 + int(x[-3:-1]) if 'h' in x else int(x[:2]))"
   ]
  },
  {
   "cell_type": "code",
   "execution_count": null,
   "metadata": {},
   "outputs": [],
   "source": [
    "# ————> Clean TMDB Data: <————\n",
    "\n",
    "# Drop 2 movies with status = 'Rumored'or'Post Production'\n",
    "tmdb.drop(tmdb.query('status != \"Released\"').index[0], inplace=True)\n",
    "tmdb.drop(tmdb.query('status != \"Released\"').index[0], inplace=True)\n",
    "\n",
    "# Add profit and audience columns with 'revenue' - 'budget' and 'original_language' == 'en'\n",
    "tmdb['profit'] = tmdb.revenue - tmdb.budget\n",
    "tmdb['audience'] = tmdb['original_language'].map(\n",
    "    lambda x : 'Domestic' if x == 'en' else 'Foreign')# <---Adding new column *now* in order\n",
    "\n",
    "# Drop extraneous columns\n",
    "tmdb = tmdb.loc[:,['title', 'revenue', 'budget', 'profit', 'release_date', 'audience']]\n",
    "\n",
    "# Drop rows with null values\n",
    "tmdb.dropna(inplace=True)\n",
    "\n",
    "# Drop movies from before 2000 or after 2019 with budgets < 1m\n",
    "tmdb = tmdb[(tmdb.release_date.between('2000-01-01', '2019-01-01')) & (tmdb.budget > 1000000)]\n",
    "\n",
    "# Reset index\n",
    "tmdb.reset_index(inplace=True, drop=True)\n",
    "\n",
    "# Convert profit to int after dropping null values\n",
    "tmdb['profit'] = tmdb.profit.map(lambda x : int(x))\n",
    "\n",
    "# Convert floats to ints\n",
    "tmdb.budget = tmdb.budget.map(lambda x : int(x))\n",
    "tmdb.revenue = tmdb.revenue.map(lambda x : int(x))\n",
    "\n",
    "# Convert strs to datetime objs\n",
    "tmdb.release_date = tmdb.release_date.map(lambda x : dt.strptime(x.split('\\n')[0], '%Y-%m-%d'))"
   ]
  },
  {
   "cell_type": "markdown",
   "metadata": {},
   "source": [
    "## Data Modeling\n",
    "\n",
    "We began by modeling the relationship between revenue and runtime as well as profit and release date. Finding these results insightful, we expanded our analysis to include additional features: runtime, in relation to revenue and rating, and audience, in relation to profit and release date."
   ]
  },
  {
   "cell_type": "code",
   "execution_count": null,
   "metadata": {},
   "outputs": [],
   "source": [
    "# ————> Modeling Major Motion Picture Profit by Release Month (Foreign & Domestic): <————\n",
    "\n",
    "# Model reveneue by rating\n",
    "r_and_r_bar, ax = plt.subplots(figsize = (8,10));\n",
    "x = rotn.groupby(['Rating'])['Box Office (Gross USA)'].mean().index\n",
    "y = rotn.groupby(['Rating'])['Box Office (Gross USA)'].mean()\n",
    "ax.set_title('Ratings vs Revenue', fontdict = {'size': 20, 'weight':'bold'})\n",
    "ax.set_xlabel('Ratings', fontdict= {'size':15})\n",
    "ax.set_ylabel('Revenue', fontdict= {'size':15});\n",
    "ax.text(-.03, -.1, \"Data source: rottentomatoes.com\", \n",
    "        fontsize=10, horizontalalignment='center', \n",
    "        verticalalignment='center', transform=ax.transAxes)\n",
    "ax.bar(x,y)\n",
    "\n",
    "# Model revenue by rating and runtime\n",
    "rotn['Gross in Millions'] = rotn['Box Office (Gross USA)'] / 1000000\n",
    "fig, ax = plt.subplots(figsize = (8,10))\n",
    "sns.scatterplot(data = rotn, x = 'Runtime', y='Gross in Millions', \n",
    "               hue = 'Rating', ax=ax)\n",
    "ax.set_title('Correlation of Profits by Runtime and Ratings', fontdict={'size':18, 'weight':'bold'})\n",
    "ax.set_ylabel('Box Office (Gross USA) in millions')\n",
    "ax.text(-.03, -.1, \"Data source: rottentomatoes.com\", \n",
    "        fontsize=10, horizontalalignment='center', \n",
    "        verticalalignment='center', transform=ax.transAxes)\n",
    "plt.show()"
   ]
  },
  {
   "cell_type": "code",
   "execution_count": null,
   "metadata": {},
   "outputs": [],
   "source": [
    "# ————> Modeling Major Motion Picture Profit by Release Month & Day: <————\n",
    "\n",
    "# Model by release month\n",
    "fig, ax = plt.subplots(figsize=(10,7.5), facecolor='white')\n",
    "\n",
    "x = ['Jan.', 'Feb.', 'Mar.', 'Apr.', 'May', 'Jun.', 'Jul.', 'Aug.', 'Sep.', 'Oct.', 'Nov.', 'Dec.']\n",
    "y = tmdb.groupby(tmdb['release_date'].dt.month).profit.mean().values\n",
    "\n",
    "plt.style.use('seaborn')\n",
    "ax.set_title('Profit by Release Month', fontsize=22)\n",
    "ax.title.set_position([.5, 1.03])\n",
    "\n",
    "plt.ticklabel_format(style='plain')\n",
    "plt.xticks(fontsize=14)\n",
    "plt.yticks(fontsize=14)\n",
    "formatter = ticker.FormatStrFormatter('$%1.0f')\n",
    "ax.yaxis.set_major_formatter(formatter)\n",
    "\n",
    "plt.text(-.03, -.1, \"Data source: tmdb.com\", fontsize=10, horizontalalignment='center', verticalalignment='center', transform=ax.transAxes)\n",
    "\n",
    "ax.plot(x,y)\n",
    "plt.show()\n",
    "\n",
    "# Model by release day\n",
    "fig, ax = plt.subplots(figsize=(10,7.5), facecolor='white')\n",
    "data = tmdb.groupby(tmdb['release_date'].dt.weekday_name).profit.mean().reindex(\n",
    "    ['Sunday', 'Monday', 'Tuesday', 'Wednesday', 'Thursday', 'Friday', 'Saturday'])\n",
    "\n",
    "x = data.index\n",
    "y = data.values\n",
    "\n",
    "plt.style.use('seaborn')\n",
    "ax.set_title('Profit by Release Day', fontsize=22)\n",
    "ax.title.set_position([.5, 1.03])\n",
    "\n",
    "plt.ticklabel_format(style='plain')\n",
    "plt.xticks(fontsize=14)    \n",
    "plt.yticks(fontsize=14)    \n",
    "formatter = ticker.FormatStrFormatter('$%1.0f')\n",
    "ax.yaxis.set_major_formatter(formatter)\n",
    "\n",
    "plt.text(-.03, -.1, \"Data source: tmdb.com\", fontsize=10, horizontalalignment='center', verticalalignment='center', transform=ax.transAxes)\n",
    "\n",
    "ax.plot(x,y)\n",
    "plt.show()"
   ]
  },
  {
   "cell_type": "code",
   "execution_count": null,
   "metadata": {},
   "outputs": [],
   "source": [
    "# ————> Modeling Major Motion Picture Profit by Release Month & Day (Foreign x Domestic): <————\n",
    "\n",
    "# Model by release month\n",
    "fig, ax = plt.subplots(figsize=(10,7.5), facecolor='white')\n",
    "plt.style.use('seaborn')\n",
    "plt.ticklabel_format(style='plain')\n",
    "plt.xticks(fontsize=14)\n",
    "plt.yticks(fontsize=14)\n",
    "formatter = ticker.FormatStrFormatter('$%1.0f')\n",
    "ax.yaxis.set_major_formatter(formatter)\n",
    "\n",
    "x = ['Jan.', 'Feb.', 'Mar.', 'Apr.', 'May', 'Jun.', 'Jul.', 'Aug.', 'Sep.', 'Oct.', 'Nov.', 'Dec.']\n",
    "y = tmdb[tmdb['audience'] == 'Foreign'].groupby(tmdb['release_date'].dt.month).profit.mean().values\n",
    "ax.set_title('Profit by Release Month', fontsize=22)\n",
    "ax.plot(x,y)\n",
    "\n",
    "x = ['Jan.', 'Feb.', 'Mar.', 'Apr.', 'May', 'Jun.', 'Jul.', 'Aug.', 'Sep.', 'Oct.', 'Nov.', 'Dec.']\n",
    "y = tmdb[tmdb['audience'] == 'Domestic'].groupby(tmdb['release_date'].dt.month).profit.mean().values\n",
    "ax.set_title('Major Motion Picture Profit by Release Month (Foreign & Domestic)', fontsize=22)\n",
    "ax.title.set_position([.429, 1.03])\n",
    "ax.plot(x,y)\n",
    "\n",
    "plt.text(-.03, -.1, \"Data source: tmdb.com\", fontsize=10, horizontalalignment='center', verticalalignment='center', transform=ax.transAxes)\n",
    "plt.legend(['Foreign', 'Domestic'])\n",
    "plt.show()\n",
    "\n",
    "# Model by release day\n",
    "fig, ax = plt.subplots(figsize=(10,7.5), facecolor='white')\n",
    "plt.style.use('seaborn')\n",
    "plt.ticklabel_format(style='plain')\n",
    "plt.xticks(fontsize=14)\n",
    "plt.yticks(fontsize=14)\n",
    "formatter = ticker.FormatStrFormatter('$%1.0f')\n",
    "ax.yaxis.set_major_formatter(formatter)\n",
    "\n",
    "data = tmdb[tmdb['audience'] == 'Foreign'].groupby(tmdb['release_date'].dt.weekday_name).profit.mean().reindex(\n",
    "    ['Sunday', 'Monday', 'Tuesday', 'Wednesday', 'Thursday', 'Friday', 'Saturday'])\n",
    "x = data.index\n",
    "y = data.values\n",
    "ax.set_title('Profit by Release Month', fontsize=22)\n",
    "ax.plot(x,y)\n",
    "\n",
    "data = tmdb[tmdb['audience'] == 'Domestic'].groupby(tmdb['release_date'].dt.weekday_name).profit.mean().reindex(\n",
    "    ['Sunday', 'Monday', 'Tuesday', 'Wednesday', 'Thursday', 'Friday', 'Saturday'])\n",
    "x = data.index\n",
    "y = data.values\n",
    "ax.set_title('Major Motion Picture Profit by Release Day (Foreign & Domestic)', fontsize=22)\n",
    "ax.title.set_position([.42, 1.03])\n",
    "ax.plot(x,y)\n",
    "\n",
    "plt.text(-.03, -.1, \"Data source: tmdb.com\", fontsize=10, horizontalalignment='center', verticalalignment='center', transform=ax.transAxes)\n",
    "plt.legend(['Foreign', 'Domestic'])\n",
    "plt.show()"
   ]
  },
  {
   "cell_type": "markdown",
   "metadata": {},
   "source": [
    "## Conclusion\n",
    "As demonstrated, revenues increase with strciter MPAA ratings from G to PG-13 but fall dramtically for R and NC-17 ratings. Optimizing runtimes for maximum revenue depends on the target rating: longer movies do better with stricter ratings.\n",
    "\n",
    "Moreover, profits peak yearly for movies released in June and December and peak weekly for Tuesday and Wednesday releases. However, upon further analysis, we found that movies intended for international audiences peak monthly in July only and weekly on Mondays.\n",
    "\n",
    "Our analysis leads to several reccomendations for Microsoft to maximize their film studio's profit and revenue.\n",
    "1. Look for projects likely to receive pg-13 ratings while ensuring they are not rated R.\n",
    "2. Restrict G and PG rated movies to shorter durations than movies rated PG-13 and R.\n",
    "3. Plan domestic release dates for Tuesdays and Wednesdays in June and January. For interntational markets, plan releases for Mondays in July."
   ]
  }
 ],
 "metadata": {
  "kernelspec": {
   "display_name": "Python 3",
   "language": "python",
   "name": "python3"
  },
  "language_info": {
   "codemirror_mode": {
    "name": "ipython",
    "version": 3
   },
   "file_extension": ".py",
   "mimetype": "text/x-python",
   "name": "python",
   "nbconvert_exporter": "python",
   "pygments_lexer": "ipython3",
   "version": "3.6.9"
  },
  "toc": {
   "base_numbering": 1,
   "nav_menu": {},
   "number_sections": true,
   "sideBar": true,
   "skip_h1_title": false,
   "title_cell": "Table of Contents",
   "title_sidebar": "Contents",
   "toc_cell": false,
   "toc_position": {},
   "toc_section_display": true,
   "toc_window_display": false
  },
  "varInspector": {
   "cols": {
    "lenName": 16,
    "lenType": 16,
    "lenVar": 40
   },
   "kernels_config": {
    "python": {
     "delete_cmd_postfix": "",
     "delete_cmd_prefix": "del ",
     "library": "var_list.py",
     "varRefreshCmd": "print(var_dic_list())"
    },
    "r": {
     "delete_cmd_postfix": ") ",
     "delete_cmd_prefix": "rm(",
     "library": "var_list.r",
     "varRefreshCmd": "cat(var_dic_list()) "
    }
   },
   "types_to_exclude": [
    "module",
    "function",
    "builtin_function_or_method",
    "instance",
    "_Feature"
   ],
   "window_display": false
  }
 },
 "nbformat": 4,
 "nbformat_minor": 4
}
